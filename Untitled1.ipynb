{
 "cells": [
  {
   "cell_type": "code",
   "execution_count": 1,
   "id": "cdebc94f",
   "metadata": {},
   "outputs": [],
   "source": [
    "import pickle"
   ]
  },
  {
   "cell_type": "code",
   "execution_count": 2,
   "id": "33e13e37",
   "metadata": {},
   "outputs": [],
   "source": [
    "filename='teja'\n",
    "model=pickle.load(open(filename,'rb'))"
   ]
  },
  {
   "cell_type": "code",
   "execution_count": 4,
   "id": "f1f60ee1",
   "metadata": {},
   "outputs": [],
   "source": [
    "x_test=[[3,1,28.0,15.2458]]"
   ]
  },
  {
   "cell_type": "code",
   "execution_count": null,
   "id": "83bc9f76",
   "metadata": {},
   "outputs": [],
   "source": []
  }
 ],
 "metadata": {
  "kernelspec": {
   "display_name": "Python 3 (ipykernel)",
   "language": "python",
   "name": "python3"
  },
  "language_info": {
   "codemirror_mode": {
    "name": "ipython",
    "version": 3
   },
   "file_extension": ".py",
   "mimetype": "text/x-python",
   "name": "python",
   "nbconvert_exporter": "python",
   "pygments_lexer": "ipython3",
   "version": "3.10.9"
  }
 },
 "nbformat": 4,
 "nbformat_minor": 5
}
