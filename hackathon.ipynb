{
 "cells": [
  {
   "cell_type": "code",
   "execution_count": 1,
   "metadata": {
    "colab": {
     "base_uri": "https://localhost:8080/"
    },
    "id": "l0VJGv4ufeKo",
    "outputId": "c74fbc8d-a23b-4968-c7e8-5f7ffb39640a"
   },
   "outputs": [
    {
     "name": "stdout",
     "output_type": "stream",
     "text": [
      "\n",
      "choose : \n",
      "1.sum.\n",
      "2.subtraction.\n",
      "3.multiplication.\n",
      "4.division.\n",
      "5.modulus.\n",
      "6.end\n",
      "\n",
      "enter choice :3\n",
      "Enter the values : \n",
      "a : 25\n",
      "b : 7\n",
      "product :  175\n",
      "\n",
      "choose : \n",
      "1.sum.\n",
      "2.subtraction.\n",
      "3.multiplication.\n",
      "4.division.\n",
      "5.modulus.\n",
      "6.end\n",
      "\n",
      "enter choice :6\n"
     ]
    }
   ],
   "source": [
    "# 4.) a simple calcultor \n",
    "def sum(a,b):\n",
    "    print(\" sum : \",a+b)\n",
    "\n",
    "def sub(a,b):\n",
    "    print(\"\\nto get the positive output\\n\")\n",
    "    if(a>b):\n",
    "        print(\" sub (a-b) : \",a-b)\n",
    "    else :\n",
    "        print(\" sub (b-a) : \",b-a)\n",
    "\n",
    "def mul(a,b):\n",
    "    print(\"product : \",a*b)\n",
    "    \n",
    "def div(a,b):\n",
    "    print(\"divided value : \",a/b)\n",
    "\n",
    "def mod(a,b):\n",
    "    print(\"remainder : \",a%b)\n",
    "   \n",
    "n=0\n",
    "while(n!=6):    \n",
    "    print(\"\\nchoose : \\n1.sum.\\n2.subtraction.\\n3.multiplication.\\n4.division.\\n5.modulus.\\n6.end\\n\")\n",
    "    n = int(input(\"enter choice :\"))\n",
    "    if(n==6):\n",
    "      break\n",
    "    print(\"Enter the values : \")\n",
    "    c = int(input(\"a : \"))\n",
    "    d = int(input(\"b : \"))\n",
    "    \n",
    "    if(n==1):\n",
    "        sum(c,d)\n",
    "    elif(n==2):\n",
    "        sub(c,d)\n",
    "    elif(n==3):\n",
    "        mul(c,d)\n",
    "    elif(n==4):\n",
    "        div(c,d)\n",
    "    elif(n==5):\n",
    "        mod(c,d)\n",
    "    else:\n",
    "        print(\"** wrong choice **\")\n",
    "    "
   ]
  },
  {
   "cell_type": "code",
   "execution_count": null,
   "metadata": {
    "id": "uo6qB5u2gcBw"
   },
   "outputs": [],
   "source": []
  }
 ],
 "metadata": {
  "colab": {
   "provenance": []
  },
  "kernelspec": {
   "display_name": "Python 3 (ipykernel)",
   "language": "python",
   "name": "python3"
  },
  "language_info": {
   "codemirror_mode": {
    "name": "ipython",
    "version": 3
   },
   "file_extension": ".py",
   "mimetype": "text/x-python",
   "name": "python",
   "nbconvert_exporter": "python",
   "pygments_lexer": "ipython3",
   "version": "3.10.9"
  }
 },
 "nbformat": 4,
 "nbformat_minor": 1
}
