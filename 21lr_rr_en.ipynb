{
 "cells": [
  {
   "cell_type": "code",
   "execution_count": 1,
   "id": "e32462a2",
   "metadata": {},
   "outputs": [],
   "source": [
    "#In this file,I performed linear_regression,ridge_regression,elastic_net and checked the error of them"
   ]
  },
  {
   "cell_type": "code",
   "execution_count": 2,
   "id": "e1438fe9",
   "metadata": {},
   "outputs": [],
   "source": [
    "import pandas as pd\n",
    "import warnings\n",
    "warnings.filterwarnings(\"ignore\")"
   ]
  },
  {
   "cell_type": "code",
   "execution_count": 3,
   "id": "0137c15c",
   "metadata": {},
   "outputs": [],
   "source": [
    "data=pd.read_csv(\"/home/placement/Desktop/venkatesh/fiat500.csv\")"
   ]
  },
  {
   "cell_type": "code",
   "execution_count": 4,
   "id": "9f74624c",
   "metadata": {},
   "outputs": [
    {
     "data": {
      "text/html": [
       "<div>\n",
       "<style scoped>\n",
       "    .dataframe tbody tr th:only-of-type {\n",
       "        vertical-align: middle;\n",
       "    }\n",
       "\n",
       "    .dataframe tbody tr th {\n",
       "        vertical-align: top;\n",
       "    }\n",
       "\n",
       "    .dataframe thead th {\n",
       "        text-align: right;\n",
       "    }\n",
       "</style>\n",
       "<table border=\"1\" class=\"dataframe\">\n",
       "  <thead>\n",
       "    <tr style=\"text-align: right;\">\n",
       "      <th></th>\n",
       "      <th>ID</th>\n",
       "      <th>model</th>\n",
       "      <th>engine_power</th>\n",
       "      <th>age_in_days</th>\n",
       "      <th>km</th>\n",
       "      <th>previous_owners</th>\n",
       "      <th>lat</th>\n",
       "      <th>lon</th>\n",
       "      <th>price</th>\n",
       "    </tr>\n",
       "  </thead>\n",
       "  <tbody>\n",
       "    <tr>\n",
       "      <th>0</th>\n",
       "      <td>1</td>\n",
       "      <td>lounge</td>\n",
       "      <td>51</td>\n",
       "      <td>882</td>\n",
       "      <td>25000</td>\n",
       "      <td>1</td>\n",
       "      <td>44.907242</td>\n",
       "      <td>8.611560</td>\n",
       "      <td>8900</td>\n",
       "    </tr>\n",
       "    <tr>\n",
       "      <th>1</th>\n",
       "      <td>2</td>\n",
       "      <td>pop</td>\n",
       "      <td>51</td>\n",
       "      <td>1186</td>\n",
       "      <td>32500</td>\n",
       "      <td>1</td>\n",
       "      <td>45.666359</td>\n",
       "      <td>12.241890</td>\n",
       "      <td>8800</td>\n",
       "    </tr>\n",
       "    <tr>\n",
       "      <th>2</th>\n",
       "      <td>3</td>\n",
       "      <td>sport</td>\n",
       "      <td>74</td>\n",
       "      <td>4658</td>\n",
       "      <td>142228</td>\n",
       "      <td>1</td>\n",
       "      <td>45.503300</td>\n",
       "      <td>11.417840</td>\n",
       "      <td>4200</td>\n",
       "    </tr>\n",
       "    <tr>\n",
       "      <th>3</th>\n",
       "      <td>4</td>\n",
       "      <td>lounge</td>\n",
       "      <td>51</td>\n",
       "      <td>2739</td>\n",
       "      <td>160000</td>\n",
       "      <td>1</td>\n",
       "      <td>40.633171</td>\n",
       "      <td>17.634609</td>\n",
       "      <td>6000</td>\n",
       "    </tr>\n",
       "    <tr>\n",
       "      <th>4</th>\n",
       "      <td>5</td>\n",
       "      <td>pop</td>\n",
       "      <td>73</td>\n",
       "      <td>3074</td>\n",
       "      <td>106880</td>\n",
       "      <td>1</td>\n",
       "      <td>41.903221</td>\n",
       "      <td>12.495650</td>\n",
       "      <td>5700</td>\n",
       "    </tr>\n",
       "    <tr>\n",
       "      <th>...</th>\n",
       "      <td>...</td>\n",
       "      <td>...</td>\n",
       "      <td>...</td>\n",
       "      <td>...</td>\n",
       "      <td>...</td>\n",
       "      <td>...</td>\n",
       "      <td>...</td>\n",
       "      <td>...</td>\n",
       "      <td>...</td>\n",
       "    </tr>\n",
       "    <tr>\n",
       "      <th>1533</th>\n",
       "      <td>1534</td>\n",
       "      <td>sport</td>\n",
       "      <td>51</td>\n",
       "      <td>3712</td>\n",
       "      <td>115280</td>\n",
       "      <td>1</td>\n",
       "      <td>45.069679</td>\n",
       "      <td>7.704920</td>\n",
       "      <td>5200</td>\n",
       "    </tr>\n",
       "    <tr>\n",
       "      <th>1534</th>\n",
       "      <td>1535</td>\n",
       "      <td>lounge</td>\n",
       "      <td>74</td>\n",
       "      <td>3835</td>\n",
       "      <td>112000</td>\n",
       "      <td>1</td>\n",
       "      <td>45.845692</td>\n",
       "      <td>8.666870</td>\n",
       "      <td>4600</td>\n",
       "    </tr>\n",
       "    <tr>\n",
       "      <th>1535</th>\n",
       "      <td>1536</td>\n",
       "      <td>pop</td>\n",
       "      <td>51</td>\n",
       "      <td>2223</td>\n",
       "      <td>60457</td>\n",
       "      <td>1</td>\n",
       "      <td>45.481541</td>\n",
       "      <td>9.413480</td>\n",
       "      <td>7500</td>\n",
       "    </tr>\n",
       "    <tr>\n",
       "      <th>1536</th>\n",
       "      <td>1537</td>\n",
       "      <td>lounge</td>\n",
       "      <td>51</td>\n",
       "      <td>2557</td>\n",
       "      <td>80750</td>\n",
       "      <td>1</td>\n",
       "      <td>45.000702</td>\n",
       "      <td>7.682270</td>\n",
       "      <td>5990</td>\n",
       "    </tr>\n",
       "    <tr>\n",
       "      <th>1537</th>\n",
       "      <td>1538</td>\n",
       "      <td>pop</td>\n",
       "      <td>51</td>\n",
       "      <td>1766</td>\n",
       "      <td>54276</td>\n",
       "      <td>1</td>\n",
       "      <td>40.323410</td>\n",
       "      <td>17.568270</td>\n",
       "      <td>7900</td>\n",
       "    </tr>\n",
       "  </tbody>\n",
       "</table>\n",
       "<p>1538 rows × 9 columns</p>\n",
       "</div>"
      ],
      "text/plain": [
       "        ID   model  engine_power  age_in_days      km  previous_owners  \\\n",
       "0        1  lounge            51          882   25000                1   \n",
       "1        2     pop            51         1186   32500                1   \n",
       "2        3   sport            74         4658  142228                1   \n",
       "3        4  lounge            51         2739  160000                1   \n",
       "4        5     pop            73         3074  106880                1   \n",
       "...    ...     ...           ...          ...     ...              ...   \n",
       "1533  1534   sport            51         3712  115280                1   \n",
       "1534  1535  lounge            74         3835  112000                1   \n",
       "1535  1536     pop            51         2223   60457                1   \n",
       "1536  1537  lounge            51         2557   80750                1   \n",
       "1537  1538     pop            51         1766   54276                1   \n",
       "\n",
       "            lat        lon  price  \n",
       "0     44.907242   8.611560   8900  \n",
       "1     45.666359  12.241890   8800  \n",
       "2     45.503300  11.417840   4200  \n",
       "3     40.633171  17.634609   6000  \n",
       "4     41.903221  12.495650   5700  \n",
       "...         ...        ...    ...  \n",
       "1533  45.069679   7.704920   5200  \n",
       "1534  45.845692   8.666870   4600  \n",
       "1535  45.481541   9.413480   7500  \n",
       "1536  45.000702   7.682270   5990  \n",
       "1537  40.323410  17.568270   7900  \n",
       "\n",
       "[1538 rows x 9 columns]"
      ]
     },
     "execution_count": 4,
     "metadata": {},
     "output_type": "execute_result"
    }
   ],
   "source": [
    "data"
   ]
  },
  {
   "cell_type": "code",
   "execution_count": 5,
   "id": "6e79a53d",
   "metadata": {},
   "outputs": [
    {
     "data": {
      "text/html": [
       "<div>\n",
       "<style scoped>\n",
       "    .dataframe tbody tr th:only-of-type {\n",
       "        vertical-align: middle;\n",
       "    }\n",
       "\n",
       "    .dataframe tbody tr th {\n",
       "        vertical-align: top;\n",
       "    }\n",
       "\n",
       "    .dataframe thead th {\n",
       "        text-align: right;\n",
       "    }\n",
       "</style>\n",
       "<table border=\"1\" class=\"dataframe\">\n",
       "  <thead>\n",
       "    <tr style=\"text-align: right;\">\n",
       "      <th></th>\n",
       "      <th>model</th>\n",
       "      <th>engine_power</th>\n",
       "      <th>age_in_days</th>\n",
       "      <th>km</th>\n",
       "      <th>previous_owners</th>\n",
       "      <th>price</th>\n",
       "    </tr>\n",
       "  </thead>\n",
       "  <tbody>\n",
       "    <tr>\n",
       "      <th>0</th>\n",
       "      <td>lounge</td>\n",
       "      <td>51</td>\n",
       "      <td>882</td>\n",
       "      <td>25000</td>\n",
       "      <td>1</td>\n",
       "      <td>8900</td>\n",
       "    </tr>\n",
       "    <tr>\n",
       "      <th>1</th>\n",
       "      <td>pop</td>\n",
       "      <td>51</td>\n",
       "      <td>1186</td>\n",
       "      <td>32500</td>\n",
       "      <td>1</td>\n",
       "      <td>8800</td>\n",
       "    </tr>\n",
       "    <tr>\n",
       "      <th>2</th>\n",
       "      <td>sport</td>\n",
       "      <td>74</td>\n",
       "      <td>4658</td>\n",
       "      <td>142228</td>\n",
       "      <td>1</td>\n",
       "      <td>4200</td>\n",
       "    </tr>\n",
       "    <tr>\n",
       "      <th>3</th>\n",
       "      <td>lounge</td>\n",
       "      <td>51</td>\n",
       "      <td>2739</td>\n",
       "      <td>160000</td>\n",
       "      <td>1</td>\n",
       "      <td>6000</td>\n",
       "    </tr>\n",
       "    <tr>\n",
       "      <th>4</th>\n",
       "      <td>pop</td>\n",
       "      <td>73</td>\n",
       "      <td>3074</td>\n",
       "      <td>106880</td>\n",
       "      <td>1</td>\n",
       "      <td>5700</td>\n",
       "    </tr>\n",
       "  </tbody>\n",
       "</table>\n",
       "</div>"
      ],
      "text/plain": [
       "    model  engine_power  age_in_days      km  previous_owners  price\n",
       "0  lounge            51          882   25000                1   8900\n",
       "1     pop            51         1186   32500                1   8800\n",
       "2   sport            74         4658  142228                1   4200\n",
       "3  lounge            51         2739  160000                1   6000\n",
       "4     pop            73         3074  106880                1   5700"
      ]
     },
     "execution_count": 5,
     "metadata": {},
     "output_type": "execute_result"
    }
   ],
   "source": [
    "data1=data.drop(['ID','lat','lon'],axis=1)\n",
    "data1.head()"
   ]
  },
  {
   "cell_type": "code",
   "execution_count": 6,
   "id": "546fcef3",
   "metadata": {},
   "outputs": [],
   "source": [
    "data1['model']=data1['model'].map({'lounge':1,'pop':2,'sport':3})"
   ]
  },
  {
   "cell_type": "code",
   "execution_count": 7,
   "id": "48671489",
   "metadata": {},
   "outputs": [
    {
     "data": {
      "text/html": [
       "<div>\n",
       "<style scoped>\n",
       "    .dataframe tbody tr th:only-of-type {\n",
       "        vertical-align: middle;\n",
       "    }\n",
       "\n",
       "    .dataframe tbody tr th {\n",
       "        vertical-align: top;\n",
       "    }\n",
       "\n",
       "    .dataframe thead th {\n",
       "        text-align: right;\n",
       "    }\n",
       "</style>\n",
       "<table border=\"1\" class=\"dataframe\">\n",
       "  <thead>\n",
       "    <tr style=\"text-align: right;\">\n",
       "      <th></th>\n",
       "      <th>model</th>\n",
       "      <th>engine_power</th>\n",
       "      <th>age_in_days</th>\n",
       "      <th>km</th>\n",
       "      <th>previous_owners</th>\n",
       "      <th>price</th>\n",
       "    </tr>\n",
       "  </thead>\n",
       "  <tbody>\n",
       "    <tr>\n",
       "      <th>0</th>\n",
       "      <td>1</td>\n",
       "      <td>51</td>\n",
       "      <td>882</td>\n",
       "      <td>25000</td>\n",
       "      <td>1</td>\n",
       "      <td>8900</td>\n",
       "    </tr>\n",
       "    <tr>\n",
       "      <th>1</th>\n",
       "      <td>2</td>\n",
       "      <td>51</td>\n",
       "      <td>1186</td>\n",
       "      <td>32500</td>\n",
       "      <td>1</td>\n",
       "      <td>8800</td>\n",
       "    </tr>\n",
       "    <tr>\n",
       "      <th>2</th>\n",
       "      <td>3</td>\n",
       "      <td>74</td>\n",
       "      <td>4658</td>\n",
       "      <td>142228</td>\n",
       "      <td>1</td>\n",
       "      <td>4200</td>\n",
       "    </tr>\n",
       "    <tr>\n",
       "      <th>3</th>\n",
       "      <td>1</td>\n",
       "      <td>51</td>\n",
       "      <td>2739</td>\n",
       "      <td>160000</td>\n",
       "      <td>1</td>\n",
       "      <td>6000</td>\n",
       "    </tr>\n",
       "    <tr>\n",
       "      <th>4</th>\n",
       "      <td>2</td>\n",
       "      <td>73</td>\n",
       "      <td>3074</td>\n",
       "      <td>106880</td>\n",
       "      <td>1</td>\n",
       "      <td>5700</td>\n",
       "    </tr>\n",
       "  </tbody>\n",
       "</table>\n",
       "</div>"
      ],
      "text/plain": [
       "   model  engine_power  age_in_days      km  previous_owners  price\n",
       "0      1            51          882   25000                1   8900\n",
       "1      2            51         1186   32500                1   8800\n",
       "2      3            74         4658  142228                1   4200\n",
       "3      1            51         2739  160000                1   6000\n",
       "4      2            73         3074  106880                1   5700"
      ]
     },
     "execution_count": 7,
     "metadata": {},
     "output_type": "execute_result"
    }
   ],
   "source": [
    "data1.head()"
   ]
  },
  {
   "cell_type": "code",
   "execution_count": 8,
   "id": "9bbaebce",
   "metadata": {},
   "outputs": [
    {
     "data": {
      "text/plain": [
       "(1538, 6)"
      ]
     },
     "execution_count": 8,
     "metadata": {},
     "output_type": "execute_result"
    }
   ],
   "source": [
    "data1.shape"
   ]
  },
  {
   "cell_type": "code",
   "execution_count": 9,
   "id": "c04b3820",
   "metadata": {},
   "outputs": [],
   "source": [
    "y=data['price']\n",
    "X=data1.drop('price',axis=1)"
   ]
  },
  {
   "cell_type": "code",
   "execution_count": 10,
   "id": "8b327e91",
   "metadata": {},
   "outputs": [],
   "source": [
    "from sklearn.model_selection import train_test_split\n",
    "X_train,X_test,y_train,y_test=train_test_split(X,y,test_size=0.33,random_state=42)"
   ]
  },
  {
   "cell_type": "markdown",
   "id": "7ee2b81f",
   "metadata": {},
   "source": [
    "# Linear regression"
   ]
  },
  {
   "cell_type": "code",
   "execution_count": 11,
   "id": "761c2eb3",
   "metadata": {},
   "outputs": [
    {
     "data": {
      "text/html": [
       "<style>#sk-container-id-1 {color: black;background-color: white;}#sk-container-id-1 pre{padding: 0;}#sk-container-id-1 div.sk-toggleable {background-color: white;}#sk-container-id-1 label.sk-toggleable__label {cursor: pointer;display: block;width: 100%;margin-bottom: 0;padding: 0.3em;box-sizing: border-box;text-align: center;}#sk-container-id-1 label.sk-toggleable__label-arrow:before {content: \"▸\";float: left;margin-right: 0.25em;color: #696969;}#sk-container-id-1 label.sk-toggleable__label-arrow:hover:before {color: black;}#sk-container-id-1 div.sk-estimator:hover label.sk-toggleable__label-arrow:before {color: black;}#sk-container-id-1 div.sk-toggleable__content {max-height: 0;max-width: 0;overflow: hidden;text-align: left;background-color: #f0f8ff;}#sk-container-id-1 div.sk-toggleable__content pre {margin: 0.2em;color: black;border-radius: 0.25em;background-color: #f0f8ff;}#sk-container-id-1 input.sk-toggleable__control:checked~div.sk-toggleable__content {max-height: 200px;max-width: 100%;overflow: auto;}#sk-container-id-1 input.sk-toggleable__control:checked~label.sk-toggleable__label-arrow:before {content: \"▾\";}#sk-container-id-1 div.sk-estimator input.sk-toggleable__control:checked~label.sk-toggleable__label {background-color: #d4ebff;}#sk-container-id-1 div.sk-label input.sk-toggleable__control:checked~label.sk-toggleable__label {background-color: #d4ebff;}#sk-container-id-1 input.sk-hidden--visually {border: 0;clip: rect(1px 1px 1px 1px);clip: rect(1px, 1px, 1px, 1px);height: 1px;margin: -1px;overflow: hidden;padding: 0;position: absolute;width: 1px;}#sk-container-id-1 div.sk-estimator {font-family: monospace;background-color: #f0f8ff;border: 1px dotted black;border-radius: 0.25em;box-sizing: border-box;margin-bottom: 0.5em;}#sk-container-id-1 div.sk-estimator:hover {background-color: #d4ebff;}#sk-container-id-1 div.sk-parallel-item::after {content: \"\";width: 100%;border-bottom: 1px solid gray;flex-grow: 1;}#sk-container-id-1 div.sk-label:hover label.sk-toggleable__label {background-color: #d4ebff;}#sk-container-id-1 div.sk-serial::before {content: \"\";position: absolute;border-left: 1px solid gray;box-sizing: border-box;top: 0;bottom: 0;left: 50%;z-index: 0;}#sk-container-id-1 div.sk-serial {display: flex;flex-direction: column;align-items: center;background-color: white;padding-right: 0.2em;padding-left: 0.2em;position: relative;}#sk-container-id-1 div.sk-item {position: relative;z-index: 1;}#sk-container-id-1 div.sk-parallel {display: flex;align-items: stretch;justify-content: center;background-color: white;position: relative;}#sk-container-id-1 div.sk-item::before, #sk-container-id-1 div.sk-parallel-item::before {content: \"\";position: absolute;border-left: 1px solid gray;box-sizing: border-box;top: 0;bottom: 0;left: 50%;z-index: -1;}#sk-container-id-1 div.sk-parallel-item {display: flex;flex-direction: column;z-index: 1;position: relative;background-color: white;}#sk-container-id-1 div.sk-parallel-item:first-child::after {align-self: flex-end;width: 50%;}#sk-container-id-1 div.sk-parallel-item:last-child::after {align-self: flex-start;width: 50%;}#sk-container-id-1 div.sk-parallel-item:only-child::after {width: 0;}#sk-container-id-1 div.sk-dashed-wrapped {border: 1px dashed gray;margin: 0 0.4em 0.5em 0.4em;box-sizing: border-box;padding-bottom: 0.4em;background-color: white;}#sk-container-id-1 div.sk-label label {font-family: monospace;font-weight: bold;display: inline-block;line-height: 1.2em;}#sk-container-id-1 div.sk-label-container {text-align: center;}#sk-container-id-1 div.sk-container {/* jupyter's `normalize.less` sets `[hidden] { display: none; }` but bootstrap.min.css set `[hidden] { display: none !important; }` so we also need the `!important` here to be able to override the default hidden behavior on the sphinx rendered scikit-learn.org. See: https://github.com/scikit-learn/scikit-learn/issues/21755 */display: inline-block !important;position: relative;}#sk-container-id-1 div.sk-text-repr-fallback {display: none;}</style><div id=\"sk-container-id-1\" class=\"sk-top-container\"><div class=\"sk-text-repr-fallback\"><pre>LinearRegression()</pre><b>In a Jupyter environment, please rerun this cell to show the HTML representation or trust the notebook. <br />On GitHub, the HTML representation is unable to render, please try loading this page with nbviewer.org.</b></div><div class=\"sk-container\" hidden><div class=\"sk-item\"><div class=\"sk-estimator sk-toggleable\"><input class=\"sk-toggleable__control sk-hidden--visually\" id=\"sk-estimator-id-1\" type=\"checkbox\" checked><label for=\"sk-estimator-id-1\" class=\"sk-toggleable__label sk-toggleable__label-arrow\">LinearRegression</label><div class=\"sk-toggleable__content\"><pre>LinearRegression()</pre></div></div></div></div></div>"
      ],
      "text/plain": [
       "LinearRegression()"
      ]
     },
     "execution_count": 11,
     "metadata": {},
     "output_type": "execute_result"
    }
   ],
   "source": [
    "from sklearn.linear_model import LinearRegression\n",
    "reg=LinearRegression()\n",
    "reg.fit(X_train,y_train)"
   ]
  },
  {
   "cell_type": "code",
   "execution_count": 12,
   "id": "00f30a63",
   "metadata": {},
   "outputs": [
    {
     "data": {
      "text/plain": [
       "array([ 5994.51703157,  7263.58726658,  9841.90754881,  9699.31627673,\n",
       "       10014.19892635,  9630.58715835,  9649.4499026 , 10092.9819664 ,\n",
       "        9879.19498711,  9329.19347948, 10407.2964056 ,  7716.91706011,\n",
       "        7682.89152522,  6673.95810983,  9639.42618839, 10346.53679153,\n",
       "        9366.53363673,  7707.90063494,  4727.33552438, 10428.17092937,\n",
       "       10359.87663878, 10364.84674179,  7680.16157493,  9927.58506055,\n",
       "        7127.7284177 ,  9097.51161986,  4929.31229715,  6940.60225317,\n",
       "        7794.35120591,  9600.43942019,  7319.85877519,  5224.05298205,\n",
       "        5559.52039134,  5201.35403287,  8960.11762682,  5659.72968338,\n",
       "        9915.79926869,  8255.93615893,  6270.40332834,  8556.73835062,\n",
       "        9749.72882426,  6873.76758364,  8951.72659758, 10301.95669828,\n",
       "        8674.89268564, 10301.93257222,  9165.73586068,  8846.92420399,\n",
       "        7044.68964545,  9052.4031418 ,  9390.75738772, 10267.3912561 ,\n",
       "       10046.90924744,  6855.71260655,  9761.93338967,  9450.05744337,\n",
       "        9274.98388541, 10416.00474283,  9771.10646661,  7302.96566423,\n",
       "       10082.61483093,  6996.96553454,  9829.40534825,  7134.21944391,\n",
       "        6407.26222178,  9971.82132188,  9757.01618446,  8614.84049875,\n",
       "        8437.92452169,  6489.24658616,  7752.65456507,  6626.60510856,\n",
       "        8329.88998217, 10412.00324329,  7342.77348105,  8543.63624413,\n",
       "        9796.44743777, 10010.43582651,  7356.86786062,  9523.1488851 ,\n",
       "       10326.22987622,  8076.40060487, 10419.77659259,  3528.47185472,\n",
       "       10322.06476759, 10425.03337221,  6183.26049817, 10363.3075255 ,\n",
       "        6517.32275335,  9095.0117622 , 10457.31199063,  9431.7474931 ,\n",
       "        6698.67676865,  3459.16038547, 10198.89642316,  9768.32453463,\n",
       "        6349.19977644,  4992.62377497,  9157.57378424,  9843.66900765,\n",
       "        5300.60403791,  5481.29193836, 10061.18107826,  8216.74437963,\n",
       "       10365.58751936,  6942.04538818,  6646.91921519,  5747.75873375,\n",
       "        8993.90183905,  9927.58506055, 10363.24676269,  9396.86589768,\n",
       "        9076.99796116, 10215.3021386 , 10383.15669206, 10126.03200513,\n",
       "        9691.06492408,  9388.16610785, 10320.28226749,  5168.15653507,\n",
       "        9748.75001733,  6076.81735982,  9002.6037807 , 10194.30552754,\n",
       "        9367.47951184,  9906.72847636,  8421.42411454,  8493.56714248,\n",
       "        7513.9076281 , 10525.09542651, 10437.87520301, 10100.9899145 ,\n",
       "       10212.09402583,  6948.1022781 ,  9602.27041522, 10385.65404439,\n",
       "        9629.55224111,  8066.17394592,  9681.08600118,  7955.02256935,\n",
       "       10372.69178007,  9154.76238436,  5812.28163235,  6805.34855395,\n",
       "        8358.805056  , 10425.80776532,  9923.80795634,  9781.53621223,\n",
       "       10586.81080578,  7672.28847193,  6792.75056277,  8166.24671727,\n",
       "       10283.85072091,  8816.21082546,  8489.96779496,  9558.69157657,\n",
       "        9721.52332944, 10138.28055739, 10267.73796468,  7250.72913511,\n",
       "        9704.08855317,  6272.77563612,  7885.75505518,  9483.71113195,\n",
       "        5035.58827017,  9328.81619306,  9955.6070855 , 10069.12877714,\n",
       "        6349.16007365,  9831.73092008,  9196.20340881,  5346.71715499,\n",
       "        5528.38460908,  4612.02299242, 10173.80266537,  9999.55096614,\n",
       "        5313.7771343 ,  8620.44956934,  7021.83512294, 10147.43553252,\n",
       "       10165.00960712,  6048.33240144,  9723.97082166,  9645.92622073,\n",
       "        9140.12793741,  9154.22477522, 10062.29448975,  9800.38292006,\n",
       "        7444.62449498,  5197.94140088,  9536.95158323, 10216.94616265,\n",
       "        5566.23154934, 10695.95942367,  6118.2268095 ,  9820.70812187,\n",
       "        9826.26441636,  7943.17659319,  6541.18666061,  9913.98389261,\n",
       "        8309.7944067 ,  9146.61701121,  6103.08915657, 10383.15669206,\n",
       "        6350.68389695,  8700.92180075,  8359.41379341,  9779.67202786,\n",
       "        8385.9906562 , 10066.13587569,  9978.73780713, 10019.25311605,\n",
       "       10328.01550142,  8533.13043011,  6715.38673981,  9358.37097594,\n",
       "        6510.80498956, 10326.22987622,  9161.14473814, 10429.78220499,\n",
       "        9106.17712824,  9927.58506055,  8475.96438759,  9316.98072484,\n",
       "       10129.12558226,  8399.60492186,  4833.31471383, 10051.2670156 ,\n",
       "       10110.81563199, 10562.59420465, 10135.75868615,  4713.79785055,\n",
       "        7262.11660026,  9654.7432372 ,  9740.70845369,  5636.64433156,\n",
       "       10155.47709616,  5174.62650449,  8289.27967046,  7545.95039361,\n",
       "        7852.20363532,  9819.42874599,  8649.41048932, 10420.0962413 ,\n",
       "        7112.06810771,  9694.4976347 ,  8042.44635606,  7416.11652219,\n",
       "       10414.66000997, 10337.48056524,  5545.78196098,  9199.06054867,\n",
       "        9605.70393594, 10520.91265135, 10103.73516165,  9246.37267253,\n",
       "        6315.45953536,  9697.21706737, 10392.10032735,  8936.66241041,\n",
       "        8165.5901225 ,  9987.10077847,  9446.14927036,  9879.65273586,\n",
       "       10448.45835426, 10447.90067619,  9585.9180788 ,  8098.07432245,\n",
       "       10412.00324329, 10337.11436623,  8818.3849933 ,  8256.65018111,\n",
       "        6927.78976525, 10283.59825308,  4866.55764753,  8810.53422632,\n",
       "        5747.08339493, 10025.67458922,  8821.11555368, 10028.84688656,\n",
       "        9662.70806557, 10436.45695728, 10107.33326378,  9856.71773512,\n",
       "        9768.942397  ,  6903.24289995,  9576.16531023,  8611.68617366,\n",
       "        6694.70448176, 10281.15915823, 10019.73728125, 10094.65810226,\n",
       "        5845.29817726,  8753.07577849,  9657.15489619,  5712.74691978,\n",
       "        8380.04755652,  9657.15489619,  4124.73480562,  9989.70896282,\n",
       "        9826.20948651,  7897.01736108, 10047.15683682, 10525.09542651,\n",
       "       10227.08404213,  6639.61874234,  6616.23041167, 10347.91841736,\n",
       "        8526.11163679,  5231.29722933,  9889.48517915,  4507.02255406,\n",
       "        7869.90759632,  5425.62099678,  9887.18805581, 10363.39032533,\n",
       "        9657.20026601,  8824.514191  ,  7748.84084   ,  4375.51746228,\n",
       "        9858.26203801, 10314.81402728,  5729.87021779, 10153.84424108,\n",
       "        9478.20297984,  8004.89094423,  5644.040747  ,  9870.01702608,\n",
       "       10410.9034658 ,  6371.39381587,  9568.03080822,  9701.23698888,\n",
       "       10295.80711844,  9596.28887759,  9883.56206685,  9360.14054713,\n",
       "        6882.99871457,  8017.17897724, 10363.20722583, 10324.99435963,\n",
       "        7367.42802598,  9941.5084238 , 10403.835825  , 10542.88459167,\n",
       "       10377.52829794, 10128.78762359,  9503.74457284,  7727.41236523,\n",
       "        9409.84573239, 10025.97222437,  9979.62136069,  9960.6594513 ,\n",
       "        9368.59190391,  9538.54303837,  9731.01255961,  9795.63830449,\n",
       "        8910.84902832,  6246.44495629,  6390.17471479,  8291.73063939,\n",
       "        8688.30624502,  6580.58329381,  6838.73562029,  5505.25388744,\n",
       "        8102.77627605,  9823.41820266,  7759.97854518,  9850.59016885,\n",
       "       10213.57924429,  5902.83650004,  9810.69980162, 10018.530005  ,\n",
       "        8009.84860348,  4525.6090265 , 10613.25155443,  3600.06318175,\n",
       "        9927.58506055, 10483.86141851,  5754.98336402,  5480.59934251,\n",
       "       10369.0469195 ,  6935.36492299,  8932.74488552, 10431.24882491,\n",
       "        9432.58393566,  9951.27288174,  8299.65959422,  7944.6120087 ,\n",
       "       10373.16665831,  5355.39532313,  9874.9057828 , 10177.1574837 ,\n",
       "       10276.95780006,  9274.29299139,  9129.65983636,  9780.91710448,\n",
       "        5655.18413977,  5019.61417468,  4530.72600877,  9639.56565456,\n",
       "        6094.42074905,  9846.17747084, 10040.49083446,  4997.3198956 ,\n",
       "        8012.59977099,  9749.71169477,  5970.69892919, 10374.19319599,\n",
       "        5505.37212671,  9603.80845104, 10080.60444002, 10173.49549365,\n",
       "        9553.48664879,  4886.66020447,  5826.86758437,  7127.78307449,\n",
       "        9986.09840714, 10375.1819333 ,  9936.20036211,  7755.07402414,\n",
       "        8820.32822581, 10009.77294687, 10261.12807264,  9955.43106434,\n",
       "        8385.1116117 ,  9441.36137497,  8621.10384346,  9719.70050582,\n",
       "        9767.12327701,  9755.03033027,  6859.84033207,  7339.68592914,\n",
       "        8740.34003982,  9898.84623968,  9788.7072129 , 10439.74281794,\n",
       "        8145.90808395,  6767.15633519,  9962.57850061,  8846.92420399,\n",
       "        9927.58506055, 10279.88133318, 10205.11210182, 10065.46678709,\n",
       "        9343.97683092,  9983.85933876,  9237.93178546, 10073.45985579,\n",
       "        7906.63849672,  6017.75726035,  8780.77873324, 10211.55465771,\n",
       "        5737.35007744, 10190.21750673,  9661.444679  ,  7747.41088806,\n",
       "        9396.65945773,  7357.03908605, 10261.68730153, 10041.70922157,\n",
       "       10525.09542651,  9941.6915233 , 10042.87112799,  6342.10368715,\n",
       "       10588.92756092,  9940.98736563, 10501.95046891,  9697.00608104,\n",
       "        9642.20441674,  6177.49903451,  8056.81304643, 10318.99744586,\n",
       "        6334.90676093,  7347.76781534, 10049.18638926,  6780.85650138,\n",
       "        7897.31981053,  5062.64376289,  4656.55980585,  8690.25433913,\n",
       "        6988.39956167,  7416.44791638,  6784.57575877,  7034.60046808,\n",
       "        9920.49385534,  8837.10014026,  9473.86037871, 10362.758227  ,\n",
       "       10185.09072066, 10354.75677873,  9700.03561924,  6004.14282877,\n",
       "        9762.0944756 ,  7693.58259057,  5694.99266265,  5047.53800681,\n",
       "        9832.25820502,  9332.68577808, 10066.98651296,  6061.66190757,\n",
       "        8691.8702504 , 10314.99712678,  5011.82707762, 10007.36463896,\n",
       "        6390.17471479, 10079.47892753,  8363.33758536, 10344.4860771 ])"
      ]
     },
     "execution_count": 12,
     "metadata": {},
     "output_type": "execute_result"
    }
   ],
   "source": [
    "ypred=reg.predict(X_test)\n",
    "ypred"
   ]
  },
  {
   "cell_type": "markdown",
   "id": "b96ea64e",
   "metadata": {},
   "source": [
    "# Ridge regression"
   ]
  },
  {
   "cell_type": "code",
   "execution_count": 13,
   "id": "0b1c4ab5",
   "metadata": {},
   "outputs": [
    {
     "data": {
      "text/html": [
       "<style>#sk-container-id-2 {color: black;background-color: white;}#sk-container-id-2 pre{padding: 0;}#sk-container-id-2 div.sk-toggleable {background-color: white;}#sk-container-id-2 label.sk-toggleable__label {cursor: pointer;display: block;width: 100%;margin-bottom: 0;padding: 0.3em;box-sizing: border-box;text-align: center;}#sk-container-id-2 label.sk-toggleable__label-arrow:before {content: \"▸\";float: left;margin-right: 0.25em;color: #696969;}#sk-container-id-2 label.sk-toggleable__label-arrow:hover:before {color: black;}#sk-container-id-2 div.sk-estimator:hover label.sk-toggleable__label-arrow:before {color: black;}#sk-container-id-2 div.sk-toggleable__content {max-height: 0;max-width: 0;overflow: hidden;text-align: left;background-color: #f0f8ff;}#sk-container-id-2 div.sk-toggleable__content pre {margin: 0.2em;color: black;border-radius: 0.25em;background-color: #f0f8ff;}#sk-container-id-2 input.sk-toggleable__control:checked~div.sk-toggleable__content {max-height: 200px;max-width: 100%;overflow: auto;}#sk-container-id-2 input.sk-toggleable__control:checked~label.sk-toggleable__label-arrow:before {content: \"▾\";}#sk-container-id-2 div.sk-estimator input.sk-toggleable__control:checked~label.sk-toggleable__label {background-color: #d4ebff;}#sk-container-id-2 div.sk-label input.sk-toggleable__control:checked~label.sk-toggleable__label {background-color: #d4ebff;}#sk-container-id-2 input.sk-hidden--visually {border: 0;clip: rect(1px 1px 1px 1px);clip: rect(1px, 1px, 1px, 1px);height: 1px;margin: -1px;overflow: hidden;padding: 0;position: absolute;width: 1px;}#sk-container-id-2 div.sk-estimator {font-family: monospace;background-color: #f0f8ff;border: 1px dotted black;border-radius: 0.25em;box-sizing: border-box;margin-bottom: 0.5em;}#sk-container-id-2 div.sk-estimator:hover {background-color: #d4ebff;}#sk-container-id-2 div.sk-parallel-item::after {content: \"\";width: 100%;border-bottom: 1px solid gray;flex-grow: 1;}#sk-container-id-2 div.sk-label:hover label.sk-toggleable__label {background-color: #d4ebff;}#sk-container-id-2 div.sk-serial::before {content: \"\";position: absolute;border-left: 1px solid gray;box-sizing: border-box;top: 0;bottom: 0;left: 50%;z-index: 0;}#sk-container-id-2 div.sk-serial {display: flex;flex-direction: column;align-items: center;background-color: white;padding-right: 0.2em;padding-left: 0.2em;position: relative;}#sk-container-id-2 div.sk-item {position: relative;z-index: 1;}#sk-container-id-2 div.sk-parallel {display: flex;align-items: stretch;justify-content: center;background-color: white;position: relative;}#sk-container-id-2 div.sk-item::before, #sk-container-id-2 div.sk-parallel-item::before {content: \"\";position: absolute;border-left: 1px solid gray;box-sizing: border-box;top: 0;bottom: 0;left: 50%;z-index: -1;}#sk-container-id-2 div.sk-parallel-item {display: flex;flex-direction: column;z-index: 1;position: relative;background-color: white;}#sk-container-id-2 div.sk-parallel-item:first-child::after {align-self: flex-end;width: 50%;}#sk-container-id-2 div.sk-parallel-item:last-child::after {align-self: flex-start;width: 50%;}#sk-container-id-2 div.sk-parallel-item:only-child::after {width: 0;}#sk-container-id-2 div.sk-dashed-wrapped {border: 1px dashed gray;margin: 0 0.4em 0.5em 0.4em;box-sizing: border-box;padding-bottom: 0.4em;background-color: white;}#sk-container-id-2 div.sk-label label {font-family: monospace;font-weight: bold;display: inline-block;line-height: 1.2em;}#sk-container-id-2 div.sk-label-container {text-align: center;}#sk-container-id-2 div.sk-container {/* jupyter's `normalize.less` sets `[hidden] { display: none; }` but bootstrap.min.css set `[hidden] { display: none !important; }` so we also need the `!important` here to be able to override the default hidden behavior on the sphinx rendered scikit-learn.org. See: https://github.com/scikit-learn/scikit-learn/issues/21755 */display: inline-block !important;position: relative;}#sk-container-id-2 div.sk-text-repr-fallback {display: none;}</style><div id=\"sk-container-id-2\" class=\"sk-top-container\"><div class=\"sk-text-repr-fallback\"><pre>GridSearchCV(estimator=Ridge(),\n",
       "             param_grid={&#x27;alpha&#x27;: [1e-15, 1e-10, 1e-08, 0.0001, 0.001, 0.01, 1,\n",
       "                                   5, 10, 20, 30]})</pre><b>In a Jupyter environment, please rerun this cell to show the HTML representation or trust the notebook. <br />On GitHub, the HTML representation is unable to render, please try loading this page with nbviewer.org.</b></div><div class=\"sk-container\" hidden><div class=\"sk-item sk-dashed-wrapped\"><div class=\"sk-label-container\"><div class=\"sk-label sk-toggleable\"><input class=\"sk-toggleable__control sk-hidden--visually\" id=\"sk-estimator-id-2\" type=\"checkbox\" ><label for=\"sk-estimator-id-2\" class=\"sk-toggleable__label sk-toggleable__label-arrow\">GridSearchCV</label><div class=\"sk-toggleable__content\"><pre>GridSearchCV(estimator=Ridge(),\n",
       "             param_grid={&#x27;alpha&#x27;: [1e-15, 1e-10, 1e-08, 0.0001, 0.001, 0.01, 1,\n",
       "                                   5, 10, 20, 30]})</pre></div></div></div><div class=\"sk-parallel\"><div class=\"sk-parallel-item\"><div class=\"sk-item\"><div class=\"sk-label-container\"><div class=\"sk-label sk-toggleable\"><input class=\"sk-toggleable__control sk-hidden--visually\" id=\"sk-estimator-id-3\" type=\"checkbox\" ><label for=\"sk-estimator-id-3\" class=\"sk-toggleable__label sk-toggleable__label-arrow\">estimator: Ridge</label><div class=\"sk-toggleable__content\"><pre>Ridge()</pre></div></div></div><div class=\"sk-serial\"><div class=\"sk-item\"><div class=\"sk-estimator sk-toggleable\"><input class=\"sk-toggleable__control sk-hidden--visually\" id=\"sk-estimator-id-4\" type=\"checkbox\" ><label for=\"sk-estimator-id-4\" class=\"sk-toggleable__label sk-toggleable__label-arrow\">Ridge</label><div class=\"sk-toggleable__content\"><pre>Ridge()</pre></div></div></div></div></div></div></div></div></div></div>"
      ],
      "text/plain": [
       "GridSearchCV(estimator=Ridge(),\n",
       "             param_grid={'alpha': [1e-15, 1e-10, 1e-08, 0.0001, 0.001, 0.01, 1,\n",
       "                                   5, 10, 20, 30]})"
      ]
     },
     "execution_count": 13,
     "metadata": {},
     "output_type": "execute_result"
    }
   ],
   "source": [
    "from sklearn.model_selection import GridSearchCV\n",
    "from sklearn.linear_model import Ridge\n",
    "\n",
    "alpha = [1e-15, 1e-10, 1e-8, 1e-4, 1e-3,1e-2, 1, 5, 10, 20,30]\n",
    "\n",
    "ridge = Ridge()\n",
    "\n",
    "parameters = {'alpha': alpha}\n",
    "\n",
    "ridge_regressor = GridSearchCV(ridge, parameters)\n",
    "\n",
    "ridge_regressor.fit(X_train, y_train)"
   ]
  },
  {
   "cell_type": "code",
   "execution_count": 14,
   "id": "b7290129",
   "metadata": {},
   "outputs": [
    {
     "data": {
      "text/plain": [
       "{'alpha': 30}"
      ]
     },
     "execution_count": 14,
     "metadata": {},
     "output_type": "execute_result"
    }
   ],
   "source": [
    "ridge_regressor.best_params_"
   ]
  },
  {
   "cell_type": "code",
   "execution_count": 15,
   "id": "53a4fec2",
   "metadata": {},
   "outputs": [],
   "source": [
    "ridge=Ridge(alpha=30)\n",
    "ridge.fit(X_train,y_train)\n",
    "y_pred_ridge=ridge.predict(X_test)"
   ]
  },
  {
   "cell_type": "markdown",
   "id": "a280b271",
   "metadata": {},
   "source": [
    "# Elastic Net"
   ]
  },
  {
   "cell_type": "code",
   "execution_count": 16,
   "id": "30092497",
   "metadata": {},
   "outputs": [
    {
     "data": {
      "text/html": [
       "<style>#sk-container-id-3 {color: black;background-color: white;}#sk-container-id-3 pre{padding: 0;}#sk-container-id-3 div.sk-toggleable {background-color: white;}#sk-container-id-3 label.sk-toggleable__label {cursor: pointer;display: block;width: 100%;margin-bottom: 0;padding: 0.3em;box-sizing: border-box;text-align: center;}#sk-container-id-3 label.sk-toggleable__label-arrow:before {content: \"▸\";float: left;margin-right: 0.25em;color: #696969;}#sk-container-id-3 label.sk-toggleable__label-arrow:hover:before {color: black;}#sk-container-id-3 div.sk-estimator:hover label.sk-toggleable__label-arrow:before {color: black;}#sk-container-id-3 div.sk-toggleable__content {max-height: 0;max-width: 0;overflow: hidden;text-align: left;background-color: #f0f8ff;}#sk-container-id-3 div.sk-toggleable__content pre {margin: 0.2em;color: black;border-radius: 0.25em;background-color: #f0f8ff;}#sk-container-id-3 input.sk-toggleable__control:checked~div.sk-toggleable__content {max-height: 200px;max-width: 100%;overflow: auto;}#sk-container-id-3 input.sk-toggleable__control:checked~label.sk-toggleable__label-arrow:before {content: \"▾\";}#sk-container-id-3 div.sk-estimator input.sk-toggleable__control:checked~label.sk-toggleable__label {background-color: #d4ebff;}#sk-container-id-3 div.sk-label input.sk-toggleable__control:checked~label.sk-toggleable__label {background-color: #d4ebff;}#sk-container-id-3 input.sk-hidden--visually {border: 0;clip: rect(1px 1px 1px 1px);clip: rect(1px, 1px, 1px, 1px);height: 1px;margin: -1px;overflow: hidden;padding: 0;position: absolute;width: 1px;}#sk-container-id-3 div.sk-estimator {font-family: monospace;background-color: #f0f8ff;border: 1px dotted black;border-radius: 0.25em;box-sizing: border-box;margin-bottom: 0.5em;}#sk-container-id-3 div.sk-estimator:hover {background-color: #d4ebff;}#sk-container-id-3 div.sk-parallel-item::after {content: \"\";width: 100%;border-bottom: 1px solid gray;flex-grow: 1;}#sk-container-id-3 div.sk-label:hover label.sk-toggleable__label {background-color: #d4ebff;}#sk-container-id-3 div.sk-serial::before {content: \"\";position: absolute;border-left: 1px solid gray;box-sizing: border-box;top: 0;bottom: 0;left: 50%;z-index: 0;}#sk-container-id-3 div.sk-serial {display: flex;flex-direction: column;align-items: center;background-color: white;padding-right: 0.2em;padding-left: 0.2em;position: relative;}#sk-container-id-3 div.sk-item {position: relative;z-index: 1;}#sk-container-id-3 div.sk-parallel {display: flex;align-items: stretch;justify-content: center;background-color: white;position: relative;}#sk-container-id-3 div.sk-item::before, #sk-container-id-3 div.sk-parallel-item::before {content: \"\";position: absolute;border-left: 1px solid gray;box-sizing: border-box;top: 0;bottom: 0;left: 50%;z-index: -1;}#sk-container-id-3 div.sk-parallel-item {display: flex;flex-direction: column;z-index: 1;position: relative;background-color: white;}#sk-container-id-3 div.sk-parallel-item:first-child::after {align-self: flex-end;width: 50%;}#sk-container-id-3 div.sk-parallel-item:last-child::after {align-self: flex-start;width: 50%;}#sk-container-id-3 div.sk-parallel-item:only-child::after {width: 0;}#sk-container-id-3 div.sk-dashed-wrapped {border: 1px dashed gray;margin: 0 0.4em 0.5em 0.4em;box-sizing: border-box;padding-bottom: 0.4em;background-color: white;}#sk-container-id-3 div.sk-label label {font-family: monospace;font-weight: bold;display: inline-block;line-height: 1.2em;}#sk-container-id-3 div.sk-label-container {text-align: center;}#sk-container-id-3 div.sk-container {/* jupyter's `normalize.less` sets `[hidden] { display: none; }` but bootstrap.min.css set `[hidden] { display: none !important; }` so we also need the `!important` here to be able to override the default hidden behavior on the sphinx rendered scikit-learn.org. See: https://github.com/scikit-learn/scikit-learn/issues/21755 */display: inline-block !important;position: relative;}#sk-container-id-3 div.sk-text-repr-fallback {display: none;}</style><div id=\"sk-container-id-3\" class=\"sk-top-container\"><div class=\"sk-text-repr-fallback\"><pre>GridSearchCV(estimator=ElasticNet(),\n",
       "             param_grid={&#x27;alpha&#x27;: [1e-15, 1e-10, 1e-08, 0.0001, 0.001, 0.01, 1,\n",
       "                                   5, 10, 20]})</pre><b>In a Jupyter environment, please rerun this cell to show the HTML representation or trust the notebook. <br />On GitHub, the HTML representation is unable to render, please try loading this page with nbviewer.org.</b></div><div class=\"sk-container\" hidden><div class=\"sk-item sk-dashed-wrapped\"><div class=\"sk-label-container\"><div class=\"sk-label sk-toggleable\"><input class=\"sk-toggleable__control sk-hidden--visually\" id=\"sk-estimator-id-5\" type=\"checkbox\" ><label for=\"sk-estimator-id-5\" class=\"sk-toggleable__label sk-toggleable__label-arrow\">GridSearchCV</label><div class=\"sk-toggleable__content\"><pre>GridSearchCV(estimator=ElasticNet(),\n",
       "             param_grid={&#x27;alpha&#x27;: [1e-15, 1e-10, 1e-08, 0.0001, 0.001, 0.01, 1,\n",
       "                                   5, 10, 20]})</pre></div></div></div><div class=\"sk-parallel\"><div class=\"sk-parallel-item\"><div class=\"sk-item\"><div class=\"sk-label-container\"><div class=\"sk-label sk-toggleable\"><input class=\"sk-toggleable__control sk-hidden--visually\" id=\"sk-estimator-id-6\" type=\"checkbox\" ><label for=\"sk-estimator-id-6\" class=\"sk-toggleable__label sk-toggleable__label-arrow\">estimator: ElasticNet</label><div class=\"sk-toggleable__content\"><pre>ElasticNet()</pre></div></div></div><div class=\"sk-serial\"><div class=\"sk-item\"><div class=\"sk-estimator sk-toggleable\"><input class=\"sk-toggleable__control sk-hidden--visually\" id=\"sk-estimator-id-7\" type=\"checkbox\" ><label for=\"sk-estimator-id-7\" class=\"sk-toggleable__label sk-toggleable__label-arrow\">ElasticNet</label><div class=\"sk-toggleable__content\"><pre>ElasticNet()</pre></div></div></div></div></div></div></div></div></div></div>"
      ],
      "text/plain": [
       "GridSearchCV(estimator=ElasticNet(),\n",
       "             param_grid={'alpha': [1e-15, 1e-10, 1e-08, 0.0001, 0.001, 0.01, 1,\n",
       "                                   5, 10, 20]})"
      ]
     },
     "execution_count": 16,
     "metadata": {},
     "output_type": "execute_result"
    }
   ],
   "source": [
    "from sklearn.model_selection import GridSearchCV\n",
    "from sklearn.linear_model import ElasticNet\n",
    "\n",
    "elastic = ElasticNet()\n",
    "\n",
    "parameters = {'alpha': [1e-15, 1e-10, 1e-8, 1e-4, 1e-3,1e-2, 1, 5, 10, 20]}\n",
    "\n",
    "elastic_regressor = GridSearchCV(elastic, parameters)\n",
    "\n",
    "elastic_regressor.fit(X_train, y_train)"
   ]
  },
  {
   "cell_type": "code",
   "execution_count": 17,
   "id": "65044ece",
   "metadata": {},
   "outputs": [
    {
     "data": {
      "text/plain": [
       "{'alpha': 0.01}"
      ]
     },
     "execution_count": 17,
     "metadata": {},
     "output_type": "execute_result"
    }
   ],
   "source": [
    "elastic_regressor.best_params_"
   ]
  },
  {
   "cell_type": "code",
   "execution_count": 18,
   "id": "97b39dc5",
   "metadata": {},
   "outputs": [],
   "source": [
    "elastic=ElasticNet(alpha=0.1)\n",
    "elastic.fit(X_train,y_train)\n",
    "y_pred_elastic=elastic.predict(X_test)"
   ]
  },
  {
   "cell_type": "markdown",
   "id": "008e8066",
   "metadata": {},
   "source": [
    "# Errors of linreg,ridreg,elasnet"
   ]
  },
  {
   "cell_type": "code",
   "execution_count": 19,
   "id": "56dbc6ee",
   "metadata": {},
   "outputs": [
    {
     "data": {
      "text/plain": [
       "593504.2888137382"
      ]
     },
     "execution_count": 19,
     "metadata": {},
     "output_type": "execute_result"
    }
   ],
   "source": [
    "from sklearn.metrics import mean_squared_error#Linear regression MSE\n",
    "mean_squared_error(ypred,y_test)"
   ]
  },
  {
   "cell_type": "code",
   "execution_count": 20,
   "id": "633ca2ef",
   "metadata": {},
   "outputs": [
    {
     "data": {
      "text/plain": [
       "590569.9121697354"
      ]
     },
     "execution_count": 20,
     "metadata": {},
     "output_type": "execute_result"
    }
   ],
   "source": [
    "from sklearn.metrics import mean_squared_error#Ridge Regression MSE\n",
    "Ridge_Error=mean_squared_error(y_pred_ridge,y_test)\n",
    "Ridge_Error"
   ]
  },
  {
   "cell_type": "code",
   "execution_count": 21,
   "id": "eea0bb89",
   "metadata": {},
   "outputs": [
    {
     "data": {
      "text/plain": [
       "588989.0937739909"
      ]
     },
     "execution_count": 21,
     "metadata": {},
     "output_type": "execute_result"
    }
   ],
   "source": [
    "from sklearn.metrics import mean_squared_error#Elastic net MSE\n",
    "elastic_Error=mean_squared_error(y_pred_elastic,y_test)\n",
    "elastic_Error"
   ]
  },
  {
   "cell_type": "code",
   "execution_count": 22,
   "id": "7a9d7648",
   "metadata": {},
   "outputs": [
    {
     "data": {
      "text/plain": [
       "0.8383895235218549"
      ]
     },
     "execution_count": 22,
     "metadata": {},
     "output_type": "execute_result"
    }
   ],
   "source": [
    "from sklearn.metrics import r2_score#Linear regression Accuracy\n",
    "r2_score(y_test,ypred)"
   ]
  },
  {
   "cell_type": "code",
   "execution_count": 23,
   "id": "59419bec",
   "metadata": {},
   "outputs": [
    {
     "data": {
      "text/plain": [
       "0.8391885506165899"
      ]
     },
     "execution_count": 23,
     "metadata": {},
     "output_type": "execute_result"
    }
   ],
   "source": [
    "from sklearn.metrics import r2_score#Ridge Regression Accuracy\n",
    "r2_score(y_test,y_pred_ridge)"
   ]
  },
  {
   "cell_type": "code",
   "execution_count": 25,
   "id": "cfd95885",
   "metadata": {},
   "outputs": [
    {
     "data": {
      "text/plain": [
       "0.8396190054910987"
      ]
     },
     "execution_count": 25,
     "metadata": {},
     "output_type": "execute_result"
    }
   ],
   "source": [
    "from sklearn.metrics import r2_score#Elastic net Accuracy\n",
    "r2_score(y_test,y_pred_elastic)"
   ]
  },
  {
   "cell_type": "code",
   "execution_count": null,
   "id": "3ff4b39b",
   "metadata": {},
   "outputs": [],
   "source": []
  }
 ],
 "metadata": {
  "kernelspec": {
   "display_name": "Python 3 (ipykernel)",
   "language": "python",
   "name": "python3"
  },
  "language_info": {
   "codemirror_mode": {
    "name": "ipython",
    "version": 3
   },
   "file_extension": ".py",
   "mimetype": "text/x-python",
   "name": "python",
   "nbconvert_exporter": "python",
   "pygments_lexer": "ipython3",
   "version": "3.10.9"
  }
 },
 "nbformat": 4,
 "nbformat_minor": 5
}
