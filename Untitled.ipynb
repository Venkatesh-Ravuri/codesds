{
 "cells": [
  {
   "cell_type": "code",
   "execution_count": 4,
   "id": "d1d8fbd8",
   "metadata": {},
   "outputs": [
    {
     "name": "stdout",
     "output_type": "stream",
     "text": [
      "2\n",
      "0001"
     ]
    }
   ],
   "source": [
    "n=int(input())\n",
    "l=[]\n",
    "while n>1:\n",
    "    n=n//2\n",
    "    a=n%2\n",
    "    l.append(a)\n",
    "    if(n==1):\n",
    "        l.append(1)\n",
    "if(len(l)==3):\n",
    "    l.append(0)\n",
    "elif(len(l)==2):\n",
    "    l.append(0)\n",
    "    l.append(0)\n",
    "elif(len(l)==1):\n",
    "    l.append(0)\n",
    "    l.append(0)\n",
    "    l.append(0)\n",
    "for i in range(len(l)-1,-1,-1) :#to reverse list\n",
    "    print(l[i],end=\"\") "
   ]
  },
  {
   "cell_type": "code",
   "execution_count": 16,
   "id": "6cac2629",
   "metadata": {},
   "outputs": [
    {
     "data": {
      "text/plain": [
       "[0, 1, 1]"
      ]
     },
     "execution_count": 16,
     "metadata": {},
     "output_type": "execute_result"
    }
   ],
   "source": [
    "l=[1,1]\n",
    "l.insert(0,0)\n",
    "l"
   ]
  },
  {
   "cell_type": "code",
   "execution_count": 47,
   "id": "f9b21091",
   "metadata": {},
   "outputs": [
    {
     "data": {
      "text/plain": [
       "0"
      ]
     },
     "execution_count": 47,
     "metadata": {},
     "output_type": "execute_result"
    }
   ],
   "source": [
    "2%2"
   ]
  },
  {
   "cell_type": "code",
   "execution_count": 48,
   "id": "54f433cd",
   "metadata": {},
   "outputs": [
    {
     "data": {
      "text/plain": [
       "'0b10'"
      ]
     },
     "execution_count": 48,
     "metadata": {},
     "output_type": "execute_result"
    }
   ],
   "source": [
    "bin(2)"
   ]
  },
  {
   "cell_type": "code",
   "execution_count": null,
   "id": "bd8ea51b",
   "metadata": {},
   "outputs": [],
   "source": []
  },
  {
   "cell_type": "code",
   "execution_count": null,
   "id": "d1bb66cb",
   "metadata": {},
   "outputs": [],
   "source": []
  }
 ],
 "metadata": {
  "kernelspec": {
   "display_name": "Python 3 (ipykernel)",
   "language": "python",
   "name": "python3"
  },
  "language_info": {
   "codemirror_mode": {
    "name": "ipython",
    "version": 3
   },
   "file_extension": ".py",
   "mimetype": "text/x-python",
   "name": "python",
   "nbconvert_exporter": "python",
   "pygments_lexer": "ipython3",
   "version": "3.10.9"
  }
 },
 "nbformat": 4,
 "nbformat_minor": 5
}
