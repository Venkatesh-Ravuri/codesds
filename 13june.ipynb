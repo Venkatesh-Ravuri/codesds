{
 "cells": [
  {
   "cell_type": "code",
   "execution_count": 14,
   "id": "8a14fe9b",
   "metadata": {},
   "outputs": [],
   "source": [
    "import pymysql"
   ]
  },
  {
   "cell_type": "code",
   "execution_count": 15,
   "id": "2876b506",
   "metadata": {},
   "outputs": [],
   "source": [
    "x=pymysql.connect(user='root',host='localhost',passwd='Password@123',database='project1')"
   ]
  },
  {
   "cell_type": "code",
   "execution_count": 19,
   "id": "4683bb22",
   "metadata": {},
   "outputs": [],
   "source": [
    "cr=x.cursor()"
   ]
  },
  {
   "cell_type": "code",
   "execution_count": 20,
   "id": "96c6800c",
   "metadata": {},
   "outputs": [],
   "source": [
    "#cr.execute('create table states(sno int(3),state varchar(15),language varchar(15),city varchar(15))')\n",
    "#cr.execute('insert into states(sno,state,language,city) values(1,\"Andhra\",\"telugu\",\"vijayawada\")')\n",
    "#cr.execute('insert into states(sno,state,language,city) values(2,\"Tamil nadu\",\"tamil\",\"chennai\")')\n",
    "#cr.execute('insert into states(sno,state,language,city) values(3,\"Kerala\",\"malayalam\",\"wayanad\")')\n",
    "#cr.execute('insert into states(sno,state,language,city) values(4,\"karnataka\",\"kannada\",\"bengaluru\")')\n",
    "#cr.execute('insert into states(sno,state,language,city) values(5,\"Goa\",\"kongini\",\"panaji\")')"
   ]
  },
  {
   "cell_type": "code",
   "execution_count": 22,
   "id": "5a5d4b79",
   "metadata": {},
   "outputs": [],
   "source": [
    "#x.commit()\n",
    "#x.close()"
   ]
  },
  {
   "cell_type": "code",
   "execution_count": 8,
   "id": "f91f9651",
   "metadata": {},
   "outputs": [
    {
     "name": "stdout",
     "output_type": "stream",
     "text": [
      "1\n",
      "2\n",
      "3\n",
      "4\n",
      "5\n"
     ]
    }
   ],
   "source": [
    "l=[1,2,3,4,5]\n",
    "for i in range(5):\n",
    "    print(l[i])"
   ]
  },
  {
   "cell_type": "code",
   "execution_count": 9,
   "id": "beae0bd9",
   "metadata": {},
   "outputs": [
    {
     "name": "stdout",
     "output_type": "stream",
     "text": [
      "140673225130224\n",
      "140673225130256\n",
      "140673225130288\n",
      "140673225130320\n",
      "140673225130352\n"
     ]
    }
   ],
   "source": [
    "l=[1,2,3,4,5]\n",
    "for i in range(5):\n",
    "    print(id(l[i]))"
   ]
  },
  {
   "cell_type": "code",
   "execution_count": 13,
   "id": "e02dc1a3",
   "metadata": {},
   "outputs": [],
   "source": [
    "#for i in range(5):\n",
    "    #for j in range(10):\n",
    "        #print(j)"
   ]
  },
  {
   "cell_type": "code",
   "execution_count": 46,
   "id": "991b546d",
   "metadata": {},
   "outputs": [
    {
     "name": "stdout",
     "output_type": "stream",
     "text": [
      "Total no of balls:300\n",
      "Total no of runs:375\n",
      "No of runs scored:78\n",
      "No of balls bowled:45\n",
      "50\n",
      "7.3\n",
      "10.7\n",
      "7.5\n",
      "Eligible to win\n"
     ]
    }
   ],
   "source": [
    "tballs=int(input(\"Total no of balls:\"))\n",
    "truns=int(input(\"Total no of runs:\"))\n",
    "runs=int(input(\"No of runs scored:\"))\n",
    "balls=int(input(\"No of balls bowled:\"))\n",
    "tovers=tballs//6\n",
    "over_finished=str(balls//6)+\".\"+str(balls%6)\n",
    "crr=runs/float(over_finished)\n",
    "trr=truns/tovers\n",
    "print(tovers)\n",
    "print(over_finished)\n",
    "print(\"%.1f\"%crr)\n",
    "print(trr)\n",
    "if(crr>=trr):\n",
    "    print(\"Eligible to win\")\n",
    "else:\n",
    "    print(\"Not eligible to win\")"
   ]
  },
  {
   "cell_type": "code",
   "execution_count": 26,
   "id": "6ce38e43",
   "metadata": {},
   "outputs": [
    {
     "name": "stdout",
     "output_type": "stream",
     "text": [
      "10.68\n",
      "10.685\n",
      "10.800000\n"
     ]
    }
   ],
   "source": [
    "a=10.684931506849315\n",
    "print(\"%.2f\"%a)\n",
    "print(\"%3.3f\"%a)\n",
    "r=10.80000\n",
    "print(\"%f\"%r)"
   ]
  },
  {
   "cell_type": "code",
   "execution_count": 4,
   "id": "3fcda8c1",
   "metadata": {},
   "outputs": [
    {
     "name": "stdout",
     "output_type": "stream",
     "text": [
      "4\n",
      "3\n",
      "2\n",
      "1\n"
     ]
    }
   ],
   "source": [
    "for i in range(4,0,-1):\n",
    "    print(i)"
   ]
  },
  {
   "cell_type": "code",
   "execution_count": null,
   "id": "ade838eb",
   "metadata": {},
   "outputs": [],
   "source": [
    "n=input(\"Enter any number:\")\n",
    "for i in range(len(n),0,-1):\n",
    "    print(n[i-1])"
   ]
  },
  {
   "cell_type": "code",
   "execution_count": 18,
   "id": "d726bc98",
   "metadata": {},
   "outputs": [
    {
     "name": "stdout",
     "output_type": "stream",
     "text": [
      "700\n"
     ]
    }
   ],
   "source": [
    "l=[1,700,124,64,99]\n",
    "m=l[0]\n",
    "for i in range(0,len(l)):#for i in l:\n",
    "    if l[i]>m:           #    if i>m:  #if int(i)>=b:\n",
    "        m=l[i]           #      m=i\n",
    "print(m)       "
   ]
  },
  {
   "cell_type": "code",
   "execution_count": 19,
   "id": "7b4e4627",
   "metadata": {},
   "outputs": [
    {
     "name": "stdout",
     "output_type": "stream",
     "text": [
      "name1:prabhas\n",
      "name1:anushka\n",
      "prabhasanushka\n",
      "enter num1-->25\n",
      "enter num2-->34\n",
      "59\n"
     ]
    }
   ],
   "source": [
    "def add(a,b):\n",
    "    c=a+b\n",
    "    print(c)\n",
    "a=input(\"name1:\")\n",
    "b=input(\"name1:\")\n",
    "add(a,b)\n",
    "a=int(input(\"enter num1-->\"))\n",
    "b=int(input(\"enter num2-->\"))\n",
    "add(a,b)"
   ]
  },
  {
   "cell_type": "code",
   "execution_count": null,
   "id": "15eece91",
   "metadata": {},
   "outputs": [],
   "source": []
  }
 ],
 "metadata": {
  "kernelspec": {
   "display_name": "Python 3 (ipykernel)",
   "language": "python",
   "name": "python3"
  },
  "language_info": {
   "codemirror_mode": {
    "name": "ipython",
    "version": 3
   },
   "file_extension": ".py",
   "mimetype": "text/x-python",
   "name": "python",
   "nbconvert_exporter": "python",
   "pygments_lexer": "ipython3",
   "version": "3.10.9"
  }
 },
 "nbformat": 4,
 "nbformat_minor": 5
}
